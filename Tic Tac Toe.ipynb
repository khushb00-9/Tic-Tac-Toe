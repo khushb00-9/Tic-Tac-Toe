{
 "cells": [
  {
   "cell_type": "markdown",
   "metadata": {},
   "source": [
    "Milestone Project 1: Tic Tac Toe"
   ]
  },
  {
   "cell_type": "markdown",
   "metadata": {},
   "source": [
    "A function that can print out a board:"
   ]
  },
  {
   "cell_type": "code",
   "execution_count": 2,
   "metadata": {},
   "outputs": [],
   "source": [
    "from IPython.display import clear_output\n",
    "\n",
    "def display_board(postition):    \n",
    "        clear_output()\n",
    "        print(\"\\t \\t| \\t\\t|\")\n",
    "        print(\"\\t\" + postition[1] + \"\\t|\\t\" + postition[2] + \"\\t|\\t\"+ postition[3])\n",
    "        print(\"\\t \\t| \\t\\t|\")\n",
    "        print(\"________________________________________________\")\n",
    "        print(\"\\t \\t| \\t\\t|\")\n",
    "        print(\"\\t\"+ postition[4] + \"\\t|\\t\" + postition[5] + \"\\t|\\t\"+ postition[6])\n",
    "        print(\"\\t \\t| \\t\\t|\")\n",
    "        print(\"________________________________________________\")\n",
    "        print(\"\\t \\t| \\t\\t|\")\n",
    "        print(\"\\t\" + postition[7] + \"\\t|\\t\" + postition[8] + \"\\t|\\t\"+ postition[9])\n",
    "        print(\"\\t \\t| \\t\\t|\")"
   ]
  },
  {
   "cell_type": "code",
   "execution_count": null,
   "metadata": {},
   "outputs": [],
   "source": [
    "testboard=[\" \"]*10\n",
    "display_board(testboard)"
   ]
  },
  {
   "cell_type": "markdown",
   "metadata": {},
   "source": [
    "A function that can take in a player input and assign their marker as 'X' or 'O'"
   ]
  },
  {
   "cell_type": "code",
   "execution_count": 3,
   "metadata": {},
   "outputs": [],
   "source": [
    "def player_input():\n",
    "    # Let Player-1 decide X or O\n",
    "    player1=\"\"\n",
    "    while player1!='X' and  player1!='O':\n",
    "        player1 = input(\"\\n\\t\\tPlayer 1: Please pick a marker 'X' or 'O'\").upper()\n",
    "\n",
    "    if player1=='X':\n",
    "        player2='O'\n",
    "    else:\n",
    "        player2='X'\n",
    "        \n",
    "    return player1,player2"
   ]
  },
  {
   "cell_type": "code",
   "execution_count": null,
   "metadata": {},
   "outputs": [],
   "source": [
    "player_input()"
   ]
  },
  {
   "cell_type": "markdown",
   "metadata": {},
   "source": [
    "A function that takes in the board list object, a marker ('X' or 'O'), and a desired position (number 1-9) and assigns it to the board."
   ]
  },
  {
   "cell_type": "code",
   "execution_count": 4,
   "metadata": {},
   "outputs": [],
   "source": [
    "def place_marker(board, marker, position):\n",
    "    board[position] = marker"
   ]
  },
  {
   "cell_type": "code",
   "execution_count": null,
   "metadata": {},
   "outputs": [],
   "source": []
  },
  {
   "cell_type": "markdown",
   "metadata": {},
   "source": [
    "A function that takes in a board and checks to see if someone has won."
   ]
  },
  {
   "cell_type": "code",
   "execution_count": 5,
   "metadata": {},
   "outputs": [],
   "source": [
    "def check_win(board,mark):\n",
    "    \n",
    "    return ((board[7] == mark and board[8] == mark and board[9] == mark) or # across the top\n",
    "    (board[4] == mark and board[5] == mark and board[6] == mark) or # across the middle\n",
    "    (board[1] == mark and board[2] == mark and board[3] == mark) or # across the bottom\n",
    "    (board[7] == mark and board[4] == mark and board[1] == mark) or # down the middle\n",
    "    (board[8] == mark and board[5] == mark and board[2] == mark) or # down the middle\n",
    "    (board[9] == mark and board[6] == mark and board[3] == mark) or # down the right side\n",
    "    (board[7] == mark and board[5] == mark and board[3] == mark) or # diagonal\n",
    "    (board[9] == mark and board[5] == mark and board[1] == mark)) # diagonal"
   ]
  },
  {
   "cell_type": "markdown",
   "metadata": {},
   "source": [
    "A random function to decide which player goes first"
   ]
  },
  {
   "cell_type": "code",
   "execution_count": 6,
   "metadata": {},
   "outputs": [],
   "source": [
    "import random\n",
    "\n",
    "def choose_first():\n",
    "    if random.randint(0, 1) == 0:\n",
    "        return 'Player 2'\n",
    "    else:\n",
    "        return 'Player 1'"
   ]
  },
  {
   "cell_type": "markdown",
   "metadata": {},
   "source": [
    "A function that returns a boolean indicating whether a space on the board is freely available."
   ]
  },
  {
   "cell_type": "code",
   "execution_count": 7,
   "metadata": {},
   "outputs": [],
   "source": [
    "def space_check(board, position):\n",
    "    \n",
    "    return board[position] == ' '"
   ]
  },
  {
   "cell_type": "markdown",
   "metadata": {},
   "source": [
    "A function that checks if the board is full and returns a boolean value"
   ]
  },
  {
   "cell_type": "code",
   "execution_count": 8,
   "metadata": {},
   "outputs": [],
   "source": [
    "def full_board_check(board):\n",
    "    for i in range(1,10):\n",
    "        if space_check(board, i):\n",
    "            return False\n",
    "    return True"
   ]
  },
  {
   "cell_type": "markdown",
   "metadata": {},
   "source": [
    "A function that asks for a player's next position (as a number 1-9)"
   ]
  },
  {
   "cell_type": "code",
   "execution_count": 9,
   "metadata": {},
   "outputs": [],
   "source": [
    "def player_choice(board):\n",
    "    position = 0\n",
    "    \n",
    "    while position not in [1,2,3,4,5,6,7,8,9] or not space_check(board, position):\n",
    "        position = int(input('Choose your next position: (1-9) '))\n",
    "        \n",
    "    return position"
   ]
  },
  {
   "cell_type": "markdown",
   "metadata": {},
   "source": [
    " A function that asks the player if they want to play again and returns a boolean True if they do want to play again."
   ]
  },
  {
   "cell_type": "code",
   "execution_count": 10,
   "metadata": {},
   "outputs": [],
   "source": [
    "def replay():\n",
    "    \n",
    "    return input('Do you want to play again? Enter Yes or No: ').lower().startswith('y')"
   ]
  },
  {
   "cell_type": "code",
   "execution_count": null,
   "metadata": {},
   "outputs": [
    {
     "name": "stdout",
     "output_type": "stream",
     "text": [
      "\n",
      "\t\tWelcome to Tic Tac Toe\n"
     ]
    }
   ],
   "source": [
    "print(\"\\n\\t\\tWelcome to Tic Tac Toe\")\n",
    "\n",
    "while True:\n",
    "    # Reset the board\n",
    "    main_board = [' '] * 10\n",
    "    \n",
    "    #Assign marker to players\n",
    "    player1_marker, player2_marker = player_input()\n",
    "    \n",
    "    #random function to decide which player goes first\n",
    "    turn = choose_first()\n",
    "    print(\"\\n\\t\\t********************************\")\n",
    "    print(\"\\n\\t\\t\"+ turn + \" will go first!\")\n",
    "    print(\"\\n\\t\\t********************************\")\n",
    "     \n",
    "    # ask player if they are ready\n",
    "    play_game = input('Let play the game. Are you ready? Enter Yes or No: ')\n",
    "    \n",
    "    if play_game.lower()[0] == 'y':\n",
    "        game_on = True\n",
    "    else:\n",
    "        game_on = False\n",
    "    \n",
    "    #start the game\n",
    "    while game_on:\n",
    "        if turn == 'Player 1':\n",
    "          \n",
    "            # Player1's turn.\n",
    "            display_board(main_board)\n",
    "            position = player_choice(main_board)\n",
    "            place_marker(main_board, player1_marker, position)\n",
    "\n",
    "            if check_win(main_board, player1_marker):\n",
    "                display_board(main_board)\n",
    "                print('Congratulations Player-1! You have won the game!')\n",
    "                game_on = False\n",
    "            else:\n",
    "                if full_board_check(main_board):\n",
    "                    display_board(main_board)\n",
    "                    print('The game is a draw!')\n",
    "                    break\n",
    "                else:\n",
    "                    turn = 'Player 2'\n",
    "\n",
    "        else:\n",
    "          \n",
    "            # Player2's turn.\n",
    "            display_board(main_board)\n",
    "            position = player_choice(main_board)\n",
    "            place_marker(main_board, player2_marker, position)\n",
    "\n",
    "            if check_win(main_board, player2_marker):\n",
    "                display_board(main_board)\n",
    "                print('Congratulations Player-2! You have won the game!')\n",
    "                game_on = False\n",
    "            else:\n",
    "                if full_board_check(main_board):\n",
    "                    display_board(main_board)\n",
    "                    print('The game is a draw!')\n",
    "                    break\n",
    "                else:\n",
    "                    turn = 'Player 1'\n",
    "\n",
    "    if not replay():\n",
    "        break\n"
   ]
  },
  {
   "cell_type": "code",
   "execution_count": null,
   "metadata": {},
   "outputs": [],
   "source": []
  }
 ],
 "metadata": {
  "kernelspec": {
   "display_name": "Python 3",
   "language": "python",
   "name": "python3"
  },
  "language_info": {
   "codemirror_mode": {
    "name": "ipython",
    "version": 3
   },
   "file_extension": ".py",
   "mimetype": "text/x-python",
   "name": "python",
   "nbconvert_exporter": "python",
   "pygments_lexer": "ipython3",
   "version": "3.7.6"
  }
 },
 "nbformat": 4,
 "nbformat_minor": 4
}
